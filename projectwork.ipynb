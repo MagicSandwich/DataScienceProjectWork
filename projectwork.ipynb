{
 "cells": [
  {
   "attachments": {},
   "cell_type": "markdown",
   "metadata": {},
   "source": [
    "# Data Science Project\n",
    "## Topic: Air Pollution"
   ]
  },
  {
   "cell_type": "code",
   "execution_count": 18,
   "metadata": {},
   "outputs": [],
   "source": [
    "import pandas as pd\n",
    "import json"
   ]
  },
  {
   "cell_type": "code",
   "execution_count": 19,
   "metadata": {},
   "outputs": [],
   "source": [
    "#Enter filename inside of json file\n",
    "file = 'almaty1janto1feb'\n",
    "#Reading JSON file created using OpenWeather API\n",
    "f = open('./json/'+file+'.json')\n",
    "\n",
    "#Loading JSON file as dictionary\n",
    "#JSON file was created using OpenWeather API\n",
    "data = json.load(f)"
   ]
  },
  {
   "cell_type": "code",
   "execution_count": 20,
   "metadata": {},
   "outputs": [
    {
     "data": {
      "text/html": [
       "<div>\n",
       "<style scoped>\n",
       "    .dataframe tbody tr th:only-of-type {\n",
       "        vertical-align: middle;\n",
       "    }\n",
       "\n",
       "    .dataframe tbody tr th {\n",
       "        vertical-align: top;\n",
       "    }\n",
       "\n",
       "    .dataframe thead th {\n",
       "        text-align: right;\n",
       "    }\n",
       "</style>\n",
       "<table border=\"1\" class=\"dataframe\">\n",
       "  <thead>\n",
       "    <tr style=\"text-align: right;\">\n",
       "      <th></th>\n",
       "      <th>dt</th>\n",
       "      <th>main.aqi</th>\n",
       "      <th>components.co</th>\n",
       "      <th>components.no</th>\n",
       "      <th>components.no2</th>\n",
       "      <th>components.o3</th>\n",
       "      <th>components.so2</th>\n",
       "      <th>components.pm2_5</th>\n",
       "      <th>components.pm10</th>\n",
       "      <th>components.nh3</th>\n",
       "    </tr>\n",
       "  </thead>\n",
       "  <tbody>\n",
       "    <tr>\n",
       "      <th>0</th>\n",
       "      <td>1672509600</td>\n",
       "      <td>5</td>\n",
       "      <td>1028.06</td>\n",
       "      <td>105.50</td>\n",
       "      <td>135.72</td>\n",
       "      <td>0.0</td>\n",
       "      <td>602.72</td>\n",
       "      <td>57.28</td>\n",
       "      <td>58.68</td>\n",
       "      <td>0.0</td>\n",
       "    </tr>\n",
       "    <tr>\n",
       "      <th>1</th>\n",
       "      <td>1672513200</td>\n",
       "      <td>5</td>\n",
       "      <td>1148.22</td>\n",
       "      <td>114.44</td>\n",
       "      <td>149.43</td>\n",
       "      <td>0.0</td>\n",
       "      <td>640.87</td>\n",
       "      <td>62.87</td>\n",
       "      <td>64.41</td>\n",
       "      <td>0.0</td>\n",
       "    </tr>\n",
       "    <tr>\n",
       "      <th>2</th>\n",
       "      <td>1672516800</td>\n",
       "      <td>5</td>\n",
       "      <td>1134.87</td>\n",
       "      <td>102.82</td>\n",
       "      <td>150.80</td>\n",
       "      <td>0.0</td>\n",
       "      <td>602.72</td>\n",
       "      <td>56.66</td>\n",
       "      <td>58.26</td>\n",
       "      <td>0.0</td>\n",
       "    </tr>\n",
       "    <tr>\n",
       "      <th>3</th>\n",
       "      <td>1672520400</td>\n",
       "      <td>5</td>\n",
       "      <td>1054.76</td>\n",
       "      <td>84.94</td>\n",
       "      <td>143.95</td>\n",
       "      <td>0.0</td>\n",
       "      <td>518.80</td>\n",
       "      <td>46.17</td>\n",
       "      <td>47.70</td>\n",
       "      <td>0.0</td>\n",
       "    </tr>\n",
       "    <tr>\n",
       "      <th>4</th>\n",
       "      <td>1672524000</td>\n",
       "      <td>5</td>\n",
       "      <td>974.66</td>\n",
       "      <td>73.31</td>\n",
       "      <td>137.09</td>\n",
       "      <td>0.0</td>\n",
       "      <td>453.95</td>\n",
       "      <td>37.10</td>\n",
       "      <td>38.55</td>\n",
       "      <td>0.0</td>\n",
       "    </tr>\n",
       "  </tbody>\n",
       "</table>\n",
       "</div>"
      ],
      "text/plain": [
       "           dt  main.aqi  components.co  components.no  components.no2  \\\n",
       "0  1672509600         5        1028.06         105.50          135.72   \n",
       "1  1672513200         5        1148.22         114.44          149.43   \n",
       "2  1672516800         5        1134.87         102.82          150.80   \n",
       "3  1672520400         5        1054.76          84.94          143.95   \n",
       "4  1672524000         5         974.66          73.31          137.09   \n",
       "\n",
       "   components.o3  components.so2  components.pm2_5  components.pm10  \\\n",
       "0            0.0          602.72             57.28            58.68   \n",
       "1            0.0          640.87             62.87            64.41   \n",
       "2            0.0          602.72             56.66            58.26   \n",
       "3            0.0          518.80             46.17            47.70   \n",
       "4            0.0          453.95             37.10            38.55   \n",
       "\n",
       "   components.nh3  \n",
       "0             0.0  \n",
       "1             0.0  \n",
       "2             0.0  \n",
       "3             0.0  \n",
       "4             0.0  "
      ]
     },
     "execution_count": 20,
     "metadata": {},
     "output_type": "execute_result"
    }
   ],
   "source": [
    "#Deleting useless data\n",
    "del data['coord']\n",
    "#normalizing data\n",
    "df = pd.json_normalize(data['list'])\n",
    "df.head()"
   ]
  },
  {
   "cell_type": "code",
   "execution_count": 21,
   "metadata": {},
   "outputs": [],
   "source": [
    "#export our data to CSV Dataset.\n",
    "df.to_csv('csv/'+file+'.csv',index=False, header=['Date','Air Quality Index','CO','NO','NO2','O3','SO2','PM2_5','PM10','NH3'])"
   ]
  }
 ],
 "metadata": {
  "kernelspec": {
   "display_name": "Python 3",
   "language": "python",
   "name": "python3"
  },
  "language_info": {
   "codemirror_mode": {
    "name": "ipython",
    "version": 3
   },
   "file_extension": ".py",
   "mimetype": "text/x-python",
   "name": "python",
   "nbconvert_exporter": "python",
   "pygments_lexer": "ipython3",
   "version": "3.11.1"
  },
  "orig_nbformat": 4,
  "vscode": {
   "interpreter": {
    "hash": "ebfc0a8d552866b0d59eba665220a57de3bc06f3ac643b8bef38dd8f66781fdd"
   }
  }
 },
 "nbformat": 4,
 "nbformat_minor": 2
}
